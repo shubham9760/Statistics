{
 "cells": [
  {
   "cell_type": "markdown",
   "metadata": {},
   "source": [
    "# Statistics"
   ]
  },
  {
   "cell_type": "code",
   "execution_count": 37,
   "metadata": {},
   "outputs": [],
   "source": [
    "import pandas as pd \n",
    "import numpy as np \n",
    "import math \n",
    "import statistics\n",
    "import scipy.stats"
   ]
  },
  {
   "cell_type": "code",
   "execution_count": 2,
   "metadata": {},
   "outputs": [
    {
     "data": {
      "text/html": [
       "<div>\n",
       "<style scoped>\n",
       "    .dataframe tbody tr th:only-of-type {\n",
       "        vertical-align: middle;\n",
       "    }\n",
       "\n",
       "    .dataframe tbody tr th {\n",
       "        vertical-align: top;\n",
       "    }\n",
       "\n",
       "    .dataframe thead th {\n",
       "        text-align: right;\n",
       "    }\n",
       "</style>\n",
       "<table border=\"1\" class=\"dataframe\">\n",
       "  <thead>\n",
       "    <tr style=\"text-align: right;\">\n",
       "      <th></th>\n",
       "      <th>X</th>\n",
       "      <th>Y</th>\n",
       "    </tr>\n",
       "  </thead>\n",
       "  <tbody>\n",
       "    <tr>\n",
       "      <th>0</th>\n",
       "      <td>12</td>\n",
       "      <td>88</td>\n",
       "    </tr>\n",
       "    <tr>\n",
       "      <th>1</th>\n",
       "      <td>14</td>\n",
       "      <td>101</td>\n",
       "    </tr>\n",
       "  </tbody>\n",
       "</table>\n",
       "</div>"
      ],
      "text/plain": [
       "    X    Y\n",
       "0  12   88\n",
       "1  14  101"
      ]
     },
     "execution_count": 2,
     "metadata": {},
     "output_type": "execute_result"
    }
   ],
   "source": [
    "df = pd.read_excel(r\"F:\\2nd Trimister\\Time Series Forecasting\\Simple Models.xlsx\", sheet_name=\"Sheet5\")\n",
    "df.head(2)"
   ]
  },
  {
   "cell_type": "code",
   "execution_count": 3,
   "metadata": {},
   "outputs": [
    {
     "data": {
      "text/plain": [
       "TtestResult(statistic=-8.79907203858026, pvalue=2.597636667626888e-08, df=20.0)"
      ]
     },
     "execution_count": 3,
     "metadata": {},
     "output_type": "execute_result"
    }
   ],
   "source": [
    "stats.ttest_ind(df['X'], df['Y'])"
   ]
  },
  {
   "cell_type": "code",
   "execution_count": 4,
   "metadata": {},
   "outputs": [
    {
     "name": "stdout",
     "output_type": "stream",
     "text": [
      "                            OLS Regression Results                            \n",
      "==============================================================================\n",
      "Dep. Variable:                      Y   R-squared:                       0.867\n",
      "Model:                            OLS   Adj. R-squared:                  0.852\n",
      "Method:                 Least Squares   F-statistic:                     58.77\n",
      "Date:                Tue, 19 Dec 2023   Prob (F-statistic):           3.11e-05\n",
      "Time:                        21:20:08   Log-Likelihood:                -43.134\n",
      "No. Observations:                  11   AIC:                             90.27\n",
      "Df Residuals:                       9   BIC:                             91.06\n",
      "Df Model:                           1                                         \n",
      "Covariance Type:            nonrobust                                         \n",
      "==============================================================================\n",
      "                 coef    std err          t      P>|t|      [0.025      0.975]\n",
      "------------------------------------------------------------------------------\n",
      "Intercept     28.0813     11.601      2.421      0.039       1.839      54.324\n",
      "X              5.0335      0.657      7.666      0.000       3.548       6.519\n",
      "==============================================================================\n",
      "Omnibus:                        5.453   Durbin-Watson:                   2.801\n",
      "Prob(Omnibus):                  0.065   Jarque-Bera (JB):                2.327\n",
      "Skew:                          -1.093   Prob(JB):                        0.312\n",
      "Kurtosis:                       3.545   Cond. No.                         50.5\n",
      "==============================================================================\n",
      "\n",
      "Notes:\n",
      "[1] Standard Errors assume that the covariance matrix of the errors is correctly specified.\n"
     ]
    },
    {
     "name": "stderr",
     "output_type": "stream",
     "text": [
      "c:\\Anaconda\\Lib\\site-packages\\scipy\\stats\\_stats_py.py:1806: UserWarning: kurtosistest only valid for n>=20 ... continuing anyway, n=11\n",
      "  warnings.warn(\"kurtosistest only valid for n>=20 ... continuing \"\n"
     ]
    }
   ],
   "source": [
    "import statsmodels.formula.api as sm\n",
    "model = sm.ols(\"Y~X\", df).fit()\n",
    "print(model.summary())"
   ]
  },
  {
   "cell_type": "code",
   "execution_count": 5,
   "metadata": {},
   "outputs": [
    {
     "data": {
      "text/html": [
       "<div>\n",
       "<style scoped>\n",
       "    .dataframe tbody tr th:only-of-type {\n",
       "        vertical-align: middle;\n",
       "    }\n",
       "\n",
       "    .dataframe tbody tr th {\n",
       "        vertical-align: top;\n",
       "    }\n",
       "\n",
       "    .dataframe thead th {\n",
       "        text-align: right;\n",
       "    }\n",
       "</style>\n",
       "<table border=\"1\" class=\"dataframe\">\n",
       "  <thead>\n",
       "    <tr style=\"text-align: right;\">\n",
       "      <th></th>\n",
       "      <th>Year</th>\n",
       "      <th>Y</th>\n",
       "      <th>X1</th>\n",
       "      <th>X2</th>\n",
       "      <th>X3</th>\n",
       "      <th>X4</th>\n",
       "      <th>X5</th>\n",
       "    </tr>\n",
       "  </thead>\n",
       "  <tbody>\n",
       "    <tr>\n",
       "      <th>0</th>\n",
       "      <td>1980-81</td>\n",
       "      <td>3.41</td>\n",
       "      <td>15.21</td>\n",
       "      <td>1.5</td>\n",
       "      <td>32.38</td>\n",
       "      <td>169.787724</td>\n",
       "      <td>12759.057437</td>\n",
       "    </tr>\n",
       "    <tr>\n",
       "      <th>1</th>\n",
       "      <td>1981-82</td>\n",
       "      <td>2.61</td>\n",
       "      <td>14.37</td>\n",
       "      <td>1.7</td>\n",
       "      <td>31.77</td>\n",
       "      <td>169.787724</td>\n",
       "      <td>13271.300578</td>\n",
       "    </tr>\n",
       "  </tbody>\n",
       "</table>\n",
       "</div>"
      ],
      "text/plain": [
       "         Year     Y     X1   X2     X3          X4            X5\n",
       "0  1980-81     3.41  15.21  1.5  32.38  169.787724  12759.057437\n",
       "1  1981-82     2.61  14.37  1.7  31.77  169.787724  13271.300578"
      ]
     },
     "execution_count": 5,
     "metadata": {},
     "output_type": "execute_result"
    }
   ],
   "source": [
    "df_multiple = pd.read_excel(r\"F:\\2nd Trimister\\Time Series Forecasting\\Multiple_Regression.xlsx\", sheet_name=\"MRM1\")\n",
    "df_multiple.head(2)"
   ]
  },
  {
   "cell_type": "code",
   "execution_count": 6,
   "metadata": {},
   "outputs": [
    {
     "name": "stdout",
     "output_type": "stream",
     "text": [
      "                            OLS Regression Results                            \n",
      "==============================================================================\n",
      "Dep. Variable:                      Y   R-squared:                       0.569\n",
      "Model:                            OLS   Adj. R-squared:                  0.504\n",
      "Method:                 Least Squares   F-statistic:                     8.725\n",
      "Date:                Tue, 19 Dec 2023   Prob (F-statistic):           2.37e-05\n",
      "Time:                        21:20:08   Log-Likelihood:                -34.632\n",
      "No. Observations:                  39   AIC:                             81.26\n",
      "Df Residuals:                      33   BIC:                             91.25\n",
      "Df Model:                           5                                         \n",
      "Covariance Type:            nonrobust                                         \n",
      "==============================================================================\n",
      "                 coef    std err          t      P>|t|      [0.025      0.975]\n",
      "------------------------------------------------------------------------------\n",
      "Intercept     -0.7395      1.989     -0.372      0.712      -4.787       3.308\n",
      "X1             0.3769      0.101      3.739      0.001       0.172       0.582\n",
      "X2             0.2696      0.123      2.187      0.036       0.019       0.520\n",
      "X3             0.0070      0.026      0.266      0.792      -0.047       0.061\n",
      "X4            -0.0159      0.007     -2.167      0.038      -0.031      -0.001\n",
      "X5          8.045e-06   8.46e-06      0.951      0.348   -9.16e-06    2.52e-05\n",
      "==============================================================================\n",
      "Omnibus:                        0.348   Durbin-Watson:                   1.669\n",
      "Prob(Omnibus):                  0.840   Jarque-Bera (JB):                0.117\n",
      "Skew:                          -0.134   Prob(JB):                        0.943\n",
      "Kurtosis:                       2.987   Cond. No.                     7.15e+05\n",
      "==============================================================================\n",
      "\n",
      "Notes:\n",
      "[1] Standard Errors assume that the covariance matrix of the errors is correctly specified.\n",
      "[2] The condition number is large, 7.15e+05. This might indicate that there are\n",
      "strong multicollinearity or other numerical problems.\n"
     ]
    }
   ],
   "source": [
    "import statsmodels.formula.api as sm\n",
    "y = df_multiple[\"Y\"]\n",
    "X = df_multiple[[\"X1\", \"X2\", \"X3\", \"X4\", \"X5\"]]\n",
    "\n",
    "model = sm.ols(\"Y ~ X1 + X2 +X3 + X4 + X5\", df_multiple).fit()\n",
    "print(model.summary())"
   ]
  },
  {
   "cell_type": "code",
   "execution_count": 7,
   "metadata": {},
   "outputs": [
    {
     "data": {
      "text/html": [
       "<div>\n",
       "<style scoped>\n",
       "    .dataframe tbody tr th:only-of-type {\n",
       "        vertical-align: middle;\n",
       "    }\n",
       "\n",
       "    .dataframe tbody tr th {\n",
       "        vertical-align: top;\n",
       "    }\n",
       "\n",
       "    .dataframe thead th {\n",
       "        text-align: right;\n",
       "    }\n",
       "</style>\n",
       "<table border=\"1\" class=\"dataframe\">\n",
       "  <thead>\n",
       "    <tr style=\"text-align: right;\">\n",
       "      <th></th>\n",
       "      <th>Year</th>\n",
       "      <th>Y</th>\n",
       "      <th>X1</th>\n",
       "      <th>X2</th>\n",
       "      <th>X3</th>\n",
       "      <th>X4</th>\n",
       "      <th>X5</th>\n",
       "    </tr>\n",
       "  </thead>\n",
       "  <tbody>\n",
       "    <tr>\n",
       "      <th>0</th>\n",
       "      <td>1966-67</td>\n",
       "      <td>8299.373737</td>\n",
       "      <td>1071.513892</td>\n",
       "      <td>50.377926</td>\n",
       "      <td>9.351413</td>\n",
       "      <td>32.928073</td>\n",
       "      <td>10423.151515</td>\n",
       "    </tr>\n",
       "    <tr>\n",
       "      <th>1</th>\n",
       "      <td>1967-68</td>\n",
       "      <td>8578.280632</td>\n",
       "      <td>1163.179951</td>\n",
       "      <td>60.394157</td>\n",
       "      <td>8.959605</td>\n",
       "      <td>36.487876</td>\n",
       "      <td>10994.545455</td>\n",
       "    </tr>\n",
       "  </tbody>\n",
       "</table>\n",
       "</div>"
      ],
      "text/plain": [
       "         Year            Y           X1         X2        X3         X4  \\\n",
       "0  1966-67     8299.373737  1071.513892  50.377926  9.351413  32.928073   \n",
       "1  1967-68     8578.280632  1163.179951  60.394157  8.959605  36.487876   \n",
       "\n",
       "             X5  \n",
       "0  10423.151515  \n",
       "1  10994.545455  "
      ]
     },
     "execution_count": 7,
     "metadata": {},
     "output_type": "execute_result"
    }
   ],
   "source": [
    "df_mrm2 = pd.read_excel(r\"F:\\2nd Trimister\\Time Series Forecasting\\Multiple_Regression.xlsx\", sheet_name=\"MRM2\")\n",
    "df_mrm2.head(2)"
   ]
  },
  {
   "cell_type": "code",
   "execution_count": 8,
   "metadata": {},
   "outputs": [
    {
     "name": "stdout",
     "output_type": "stream",
     "text": [
      "                            OLS Regression Results                            \n",
      "==============================================================================\n",
      "Dep. Variable:                      Y   R-squared:                       0.996\n",
      "Model:                            OLS   Adj. R-squared:                  0.996\n",
      "Method:                 Least Squares   F-statistic:                     3075.\n",
      "Date:                Tue, 19 Dec 2023   Prob (F-statistic):           3.54e-57\n",
      "Time:                        21:20:09   Log-Likelihood:                -409.73\n",
      "No. Observations:                  53   AIC:                             829.5\n",
      "Df Residuals:                      48   BIC:                             839.3\n",
      "Df Model:                           4                                         \n",
      "Covariance Type:            nonrobust                                         \n",
      "==============================================================================\n",
      "                 coef    std err          t      P>|t|      [0.025      0.975]\n",
      "------------------------------------------------------------------------------\n",
      "Intercept   7792.5900    359.238     21.692      0.000    7070.293    8514.887\n",
      "X1             0.0502      0.050      1.012      0.317      -0.050       0.150\n",
      "X2             1.6852      0.165     10.235      0.000       1.354       2.016\n",
      "X4            -0.8445      0.361     -2.340      0.023      -1.570      -0.119\n",
      "X5             0.1026      0.025      4.141      0.000       0.053       0.152\n",
      "==============================================================================\n",
      "Omnibus:                        7.144   Durbin-Watson:                   0.525\n",
      "Prob(Omnibus):                  0.028   Jarque-Bera (JB):                6.167\n",
      "Skew:                           0.718   Prob(JB):                       0.0458\n",
      "Kurtosis:                       3.854   Cond. No.                     1.79e+05\n",
      "==============================================================================\n",
      "\n",
      "Notes:\n",
      "[1] Standard Errors assume that the covariance matrix of the errors is correctly specified.\n",
      "[2] The condition number is large, 1.79e+05. This might indicate that there are\n",
      "strong multicollinearity or other numerical problems.\n"
     ]
    }
   ],
   "source": [
    "import statsmodels.formula.api as sm\n",
    "model = sm.ols(\"Y~X1+X2+X2+X4+X5\", df_mrm2).fit()\n",
    "print(model.summary())"
   ]
  },
  {
   "cell_type": "code",
   "execution_count": 9,
   "metadata": {},
   "outputs": [
    {
     "data": {
      "text/html": [
       "<div>\n",
       "<style scoped>\n",
       "    .dataframe tbody tr th:only-of-type {\n",
       "        vertical-align: middle;\n",
       "    }\n",
       "\n",
       "    .dataframe tbody tr th {\n",
       "        vertical-align: top;\n",
       "    }\n",
       "\n",
       "    .dataframe thead th {\n",
       "        text-align: right;\n",
       "    }\n",
       "</style>\n",
       "<table border=\"1\" class=\"dataframe\">\n",
       "  <thead>\n",
       "    <tr style=\"text-align: right;\">\n",
       "      <th></th>\n",
       "      <th>Quilfication</th>\n",
       "      <th>Salary</th>\n",
       "      <th>Professional</th>\n",
       "      <th>Academic</th>\n",
       "    </tr>\n",
       "  </thead>\n",
       "  <tbody>\n",
       "    <tr>\n",
       "      <th>0</th>\n",
       "      <td>Academic</td>\n",
       "      <td>30</td>\n",
       "      <td>0</td>\n",
       "      <td>1</td>\n",
       "    </tr>\n",
       "    <tr>\n",
       "      <th>1</th>\n",
       "      <td>Academic</td>\n",
       "      <td>65</td>\n",
       "      <td>0</td>\n",
       "      <td>1</td>\n",
       "    </tr>\n",
       "  </tbody>\n",
       "</table>\n",
       "</div>"
      ],
      "text/plain": [
       "  Quilfication  Salary  Professional  Academic\n",
       "0     Academic      30             0         1\n",
       "1     Academic      65             0         1"
      ]
     },
     "execution_count": 9,
     "metadata": {},
     "output_type": "execute_result"
    }
   ],
   "source": [
    "df_salary = pd.read_excel(r\"F:\\2nd Trimister\\Time Series Forecasting\\Dummy.xlsx\", sheet_name = \"A\")\n",
    "df_salary.head(2)"
   ]
  },
  {
   "cell_type": "code",
   "execution_count": 10,
   "metadata": {},
   "outputs": [
    {
     "name": "stdout",
     "output_type": "stream",
     "text": [
      "<class 'pandas.core.frame.DataFrame'>\n",
      "RangeIndex: 16 entries, 0 to 15\n",
      "Data columns (total 4 columns):\n",
      " #   Column        Non-Null Count  Dtype \n",
      "---  ------        --------------  ----- \n",
      " 0   Quilfication  16 non-null     object\n",
      " 1   Salary        16 non-null     int64 \n",
      " 2   Professional  16 non-null     int64 \n",
      " 3   Academic      16 non-null     int64 \n",
      "dtypes: int64(3), object(1)\n",
      "memory usage: 644.0+ bytes\n"
     ]
    }
   ],
   "source": [
    "df_salary.info()"
   ]
  },
  {
   "cell_type": "code",
   "execution_count": 11,
   "metadata": {},
   "outputs": [
    {
     "name": "stdout",
     "output_type": "stream",
     "text": [
      "                            OLS Regression Results                            \n",
      "==============================================================================\n",
      "Dep. Variable:                 Salary   R-squared:                       0.003\n",
      "Model:                            OLS   Adj. R-squared:                 -0.068\n",
      "Method:                 Least Squares   F-statistic:                   0.04714\n",
      "Date:                Tue, 19 Dec 2023   Prob (F-statistic):              0.831\n",
      "Time:                        21:20:09   Log-Likelihood:                -84.070\n",
      "No. Observations:                  16   AIC:                             172.1\n",
      "Df Residuals:                      14   BIC:                             173.7\n",
      "Df Model:                           1                                         \n",
      "Covariance Type:            nonrobust                                         \n",
      "==============================================================================\n",
      "                 coef    std err          t      P>|t|      [0.025      0.975]\n",
      "------------------------------------------------------------------------------\n",
      "Intercept     79.6250     17.505      4.549      0.000      42.081     117.169\n",
      "Academic       5.3750     24.755      0.217      0.831     -47.720      58.470\n",
      "==============================================================================\n",
      "Omnibus:                        2.848   Durbin-Watson:                   1.085\n",
      "Prob(Omnibus):                  0.241   Jarque-Bera (JB):                1.615\n",
      "Skew:                           0.778   Prob(JB):                        0.446\n",
      "Kurtosis:                       3.004   Cond. No.                         2.62\n",
      "==============================================================================\n",
      "\n",
      "Notes:\n",
      "[1] Standard Errors assume that the covariance matrix of the errors is correctly specified.\n"
     ]
    },
    {
     "name": "stderr",
     "output_type": "stream",
     "text": [
      "c:\\Anaconda\\Lib\\site-packages\\scipy\\stats\\_stats_py.py:1806: UserWarning: kurtosistest only valid for n>=20 ... continuing anyway, n=16\n",
      "  warnings.warn(\"kurtosistest only valid for n>=20 ... continuing \"\n"
     ]
    }
   ],
   "source": [
    "import statsmodels.formula.api as sm\n",
    "model = sm.ols(\"Salary~Academic\",df_salary).fit()\n",
    "print(model.summary())"
   ]
  },
  {
   "cell_type": "code",
   "execution_count": 12,
   "metadata": {},
   "outputs": [
    {
     "name": "stdout",
     "output_type": "stream",
     "text": [
      "                            OLS Regression Results                            \n",
      "==============================================================================\n",
      "Dep. Variable:                 Salary   R-squared:                       0.003\n",
      "Model:                            OLS   Adj. R-squared:                 -0.068\n",
      "Method:                 Least Squares   F-statistic:                   0.04714\n",
      "Date:                Tue, 19 Dec 2023   Prob (F-statistic):              0.831\n",
      "Time:                        21:20:09   Log-Likelihood:                -84.070\n",
      "No. Observations:                  16   AIC:                             172.1\n",
      "Df Residuals:                      14   BIC:                             173.7\n",
      "Df Model:                           1                                         \n",
      "Covariance Type:            nonrobust                                         \n",
      "================================================================================\n",
      "                   coef    std err          t      P>|t|      [0.025      0.975]\n",
      "--------------------------------------------------------------------------------\n",
      "Intercept       85.0000     17.505      4.856      0.000      47.456     122.544\n",
      "Professional    -5.3750     24.755     -0.217      0.831     -58.470      47.720\n",
      "==============================================================================\n",
      "Omnibus:                        2.848   Durbin-Watson:                   1.085\n",
      "Prob(Omnibus):                  0.241   Jarque-Bera (JB):                1.615\n",
      "Skew:                           0.778   Prob(JB):                        0.446\n",
      "Kurtosis:                       3.004   Cond. No.                         2.62\n",
      "==============================================================================\n",
      "\n",
      "Notes:\n",
      "[1] Standard Errors assume that the covariance matrix of the errors is correctly specified.\n"
     ]
    },
    {
     "name": "stderr",
     "output_type": "stream",
     "text": [
      "c:\\Anaconda\\Lib\\site-packages\\scipy\\stats\\_stats_py.py:1806: UserWarning: kurtosistest only valid for n>=20 ... continuing anyway, n=16\n",
      "  warnings.warn(\"kurtosistest only valid for n>=20 ... continuing \"\n"
     ]
    }
   ],
   "source": [
    "import statsmodels.formula.api as sm\n",
    "model = sm.ols(\"Salary~Professional\",df_salary).fit()\n",
    "print(model.summary())"
   ]
  },
  {
   "cell_type": "code",
   "execution_count": 15,
   "metadata": {},
   "outputs": [
    {
     "name": "stdout",
     "output_type": "stream",
     "text": [
      "                            OLS Regression Results                            \n",
      "==============================================================================\n",
      "Dep. Variable:                 Salary   R-squared:                       0.003\n",
      "Model:                            OLS   Adj. R-squared:                 -0.068\n",
      "Method:                 Least Squares   F-statistic:                   0.04714\n",
      "Date:                Tue, 19 Dec 2023   Prob (F-statistic):              0.831\n",
      "Time:                        21:23:55   Log-Likelihood:                -84.070\n",
      "No. Observations:                  16   AIC:                             172.1\n",
      "Df Residuals:                      14   BIC:                             173.7\n",
      "Df Model:                           1                                         \n",
      "Covariance Type:            nonrobust                                         \n",
      "================================================================================\n",
      "                   coef    std err          t      P>|t|      [0.025      0.975]\n",
      "--------------------------------------------------------------------------------\n",
      "Intercept       54.8750      8.252      6.650      0.000      37.177      72.573\n",
      "Professional    24.7500     13.047      1.897      0.079      -3.233      52.733\n",
      "Academic        30.1250     13.047      2.309      0.037       2.142      58.108\n",
      "==============================================================================\n",
      "Omnibus:                        2.848   Durbin-Watson:                   1.085\n",
      "Prob(Omnibus):                  0.241   Jarque-Bera (JB):                1.615\n",
      "Skew:                           0.778   Prob(JB):                        0.446\n",
      "Kurtosis:                       3.004   Cond. No.                     7.38e+15\n",
      "==============================================================================\n",
      "\n",
      "Notes:\n",
      "[1] Standard Errors assume that the covariance matrix of the errors is correctly specified.\n",
      "[2] The smallest eigenvalue is 4.4e-31. This might indicate that there are\n",
      "strong multicollinearity problems or that the design matrix is singular.\n"
     ]
    },
    {
     "name": "stderr",
     "output_type": "stream",
     "text": [
      "c:\\Anaconda\\Lib\\site-packages\\scipy\\stats\\_stats_py.py:1806: UserWarning: kurtosistest only valid for n>=20 ... continuing anyway, n=16\n",
      "  warnings.warn(\"kurtosistest only valid for n>=20 ... continuing \"\n"
     ]
    }
   ],
   "source": [
    "import statsmodels.formula.api as sm\n",
    "model = sm.ols(\"Salary~Professional+Academic\",df_salary).fit()\n",
    "print(model.summary())"
   ]
  },
  {
   "cell_type": "code",
   "execution_count": 30,
   "metadata": {},
   "outputs": [
    {
     "name": "stdout",
     "output_type": "stream",
     "text": [
      "                            OLS Regression Results                            \n",
      "==============================================================================\n",
      "Dep. Variable:                      Y   R-squared:                       0.867\n",
      "Model:                            OLS   Adj. R-squared:                  0.852\n",
      "Method:                 Least Squares   F-statistic:                     58.77\n",
      "Date:                Tue, 19 Dec 2023   Prob (F-statistic):           3.11e-05\n",
      "Time:                        21:58:53   Log-Likelihood:                -43.134\n",
      "No. Observations:                  11   AIC:                             90.27\n",
      "Df Residuals:                       9   BIC:                             91.06\n",
      "Df Model:                           1                                         \n",
      "Covariance Type:            nonrobust                                         \n",
      "==============================================================================\n",
      "                 coef    std err          t      P>|t|      [0.025      0.975]\n",
      "------------------------------------------------------------------------------\n",
      "const         28.0813     11.601      2.421      0.039       1.839      54.324\n",
      "X              5.0335      0.657      7.666      0.000       3.548       6.519\n",
      "==============================================================================\n",
      "Omnibus:                        5.453   Durbin-Watson:                   2.801\n",
      "Prob(Omnibus):                  0.065   Jarque-Bera (JB):                2.327\n",
      "Skew:                          -1.093   Prob(JB):                        0.312\n",
      "Kurtosis:                       3.545   Cond. No.                         50.5\n",
      "==============================================================================\n",
      "\n",
      "Notes:\n",
      "[1] Standard Errors assume that the covariance matrix of the errors is correctly specified.\n"
     ]
    },
    {
     "name": "stderr",
     "output_type": "stream",
     "text": [
      "c:\\Anaconda\\Lib\\site-packages\\scipy\\stats\\_stats_py.py:1806: UserWarning: kurtosistest only valid for n>=20 ... continuing anyway, n=11\n",
      "  warnings.warn(\"kurtosistest only valid for n>=20 ... continuing \"\n"
     ]
    }
   ],
   "source": [
    "import statsmodels.api as sm\n",
    "Y = df[\"Y\"]\n",
    "X = df[\"X\"]\n",
    "X = sm.add_constant(X)\n",
    "model = sm.OLS(Y, X).fit()\n",
    "print(model.summary())"
   ]
  },
  {
   "cell_type": "code",
   "execution_count": 36,
   "metadata": {},
   "outputs": [
    {
     "name": "stdout",
     "output_type": "stream",
     "text": [
      "0      88.483871\n",
      "1      98.550968\n",
      "2     153.920000\n",
      "3     189.154839\n",
      "4      73.383226\n",
      "5     118.685161\n",
      "6     108.618065\n",
      "7      98.550968\n",
      "8      98.550968\n",
      "9      98.550968\n",
      "10     98.550968\n",
      "dtype: float64\n",
      "0      88\n",
      "1     101\n",
      "2     125\n",
      "3     198\n",
      "4      57\n",
      "5     135\n",
      "6     114\n",
      "7     101\n",
      "8      95\n",
      "9     110\n",
      "10    101\n",
      "Name: Y, dtype: int64\n"
     ]
    }
   ],
   "source": [
    "predictions = model.predict(X)\n",
    "print(predictions)\n",
    "print(df[\"Y\"])"
   ]
  },
  {
   "cell_type": "code",
   "execution_count": 39,
   "metadata": {},
   "outputs": [
    {
     "data": {
      "text/plain": [
       "LeveneResult(statistic=5.543082909153229, pvalue=0.028885541721325327)"
      ]
     },
     "execution_count": 39,
     "metadata": {},
     "output_type": "execute_result"
    }
   ],
   "source": [
    "\n",
    "scipy.stats.levene(df[\"Y\"], df[\"X\"], center=\"mean\")"
   ]
  },
  {
   "cell_type": "code",
   "execution_count": 42,
   "metadata": {},
   "outputs": [
    {
     "data": {
      "text/plain": [
       "TtestResult(statistic=8.79907203858026, pvalue=2.597636667626888e-08, df=20.0)"
      ]
     },
     "execution_count": 42,
     "metadata": {},
     "output_type": "execute_result"
    }
   ],
   "source": [
    "scipy.stats.ttest_ind(df[\"Y\"],df[\"X\"], equal_var=True)"
   ]
  },
  {
   "cell_type": "code",
   "execution_count": 43,
   "metadata": {},
   "outputs": [
    {
     "data": {
      "text/plain": [
       "F_onewayResult(statistic=77.42366874012498, pvalue=2.597636667626883e-08)"
      ]
     },
     "execution_count": 43,
     "metadata": {},
     "output_type": "execute_result"
    }
   ],
   "source": [
    "scipy.stats.f_oneway(df[\"Y\"], df[\"X\"])"
   ]
  }
 ],
 "metadata": {
  "kernelspec": {
   "display_name": "base",
   "language": "python",
   "name": "python3"
  },
  "language_info": {
   "codemirror_mode": {
    "name": "ipython",
    "version": 3
   },
   "file_extension": ".py",
   "mimetype": "text/x-python",
   "name": "python",
   "nbconvert_exporter": "python",
   "pygments_lexer": "ipython3",
   "version": "3.11.5"
  }
 },
 "nbformat": 4,
 "nbformat_minor": 2
}
