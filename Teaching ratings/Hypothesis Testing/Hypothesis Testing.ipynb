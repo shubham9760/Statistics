{
 "cells": [
  {
   "cell_type": "code",
   "execution_count": 1,
   "metadata": {},
   "outputs": [],
   "source": [
    "import pandas as pd\n",
    "import numpy as np\n",
    "import statistics\n",
    "import scipy.stats\n",
    "import statsmodels.api as sm\n",
    "import seaborn as sns\n",
    "import matplotlib.pyplot as plt"
   ]
  },
  {
   "cell_type": "code",
   "execution_count": 2,
   "metadata": {},
   "outputs": [
    {
     "data": {
      "text/html": [
       "<div>\n",
       "<style scoped>\n",
       "    .dataframe tbody tr th:only-of-type {\n",
       "        vertical-align: middle;\n",
       "    }\n",
       "\n",
       "    .dataframe tbody tr th {\n",
       "        vertical-align: top;\n",
       "    }\n",
       "\n",
       "    .dataframe thead th {\n",
       "        text-align: right;\n",
       "    }\n",
       "</style>\n",
       "<table border=\"1\" class=\"dataframe\">\n",
       "  <thead>\n",
       "    <tr style=\"text-align: right;\">\n",
       "      <th></th>\n",
       "      <th>minority</th>\n",
       "      <th>age</th>\n",
       "      <th>gender</th>\n",
       "      <th>credits</th>\n",
       "      <th>beauty</th>\n",
       "      <th>eval</th>\n",
       "      <th>division</th>\n",
       "      <th>native</th>\n",
       "      <th>tenure</th>\n",
       "      <th>students</th>\n",
       "      <th>allstudents</th>\n",
       "      <th>prof</th>\n",
       "      <th>PrimaryLast</th>\n",
       "      <th>vismin</th>\n",
       "      <th>female</th>\n",
       "      <th>single_credit</th>\n",
       "      <th>upper_division</th>\n",
       "      <th>English_speaker</th>\n",
       "      <th>tenured_prof</th>\n",
       "    </tr>\n",
       "  </thead>\n",
       "  <tbody>\n",
       "    <tr>\n",
       "      <th>0</th>\n",
       "      <td>yes</td>\n",
       "      <td>36</td>\n",
       "      <td>female</td>\n",
       "      <td>more</td>\n",
       "      <td>0.289916</td>\n",
       "      <td>4.3</td>\n",
       "      <td>upper</td>\n",
       "      <td>yes</td>\n",
       "      <td>yes</td>\n",
       "      <td>24</td>\n",
       "      <td>43</td>\n",
       "      <td>1</td>\n",
       "      <td>0</td>\n",
       "      <td>1</td>\n",
       "      <td>1</td>\n",
       "      <td>0</td>\n",
       "      <td>1</td>\n",
       "      <td>1</td>\n",
       "      <td>1</td>\n",
       "    </tr>\n",
       "    <tr>\n",
       "      <th>1</th>\n",
       "      <td>yes</td>\n",
       "      <td>36</td>\n",
       "      <td>female</td>\n",
       "      <td>more</td>\n",
       "      <td>0.289916</td>\n",
       "      <td>3.7</td>\n",
       "      <td>upper</td>\n",
       "      <td>yes</td>\n",
       "      <td>yes</td>\n",
       "      <td>86</td>\n",
       "      <td>125</td>\n",
       "      <td>1</td>\n",
       "      <td>0</td>\n",
       "      <td>1</td>\n",
       "      <td>1</td>\n",
       "      <td>0</td>\n",
       "      <td>1</td>\n",
       "      <td>1</td>\n",
       "      <td>1</td>\n",
       "    </tr>\n",
       "    <tr>\n",
       "      <th>2</th>\n",
       "      <td>yes</td>\n",
       "      <td>36</td>\n",
       "      <td>female</td>\n",
       "      <td>more</td>\n",
       "      <td>0.289916</td>\n",
       "      <td>3.6</td>\n",
       "      <td>upper</td>\n",
       "      <td>yes</td>\n",
       "      <td>yes</td>\n",
       "      <td>76</td>\n",
       "      <td>125</td>\n",
       "      <td>1</td>\n",
       "      <td>0</td>\n",
       "      <td>1</td>\n",
       "      <td>1</td>\n",
       "      <td>0</td>\n",
       "      <td>1</td>\n",
       "      <td>1</td>\n",
       "      <td>1</td>\n",
       "    </tr>\n",
       "    <tr>\n",
       "      <th>3</th>\n",
       "      <td>yes</td>\n",
       "      <td>36</td>\n",
       "      <td>female</td>\n",
       "      <td>more</td>\n",
       "      <td>0.289916</td>\n",
       "      <td>4.4</td>\n",
       "      <td>upper</td>\n",
       "      <td>yes</td>\n",
       "      <td>yes</td>\n",
       "      <td>77</td>\n",
       "      <td>123</td>\n",
       "      <td>1</td>\n",
       "      <td>1</td>\n",
       "      <td>1</td>\n",
       "      <td>1</td>\n",
       "      <td>0</td>\n",
       "      <td>1</td>\n",
       "      <td>1</td>\n",
       "      <td>1</td>\n",
       "    </tr>\n",
       "    <tr>\n",
       "      <th>4</th>\n",
       "      <td>no</td>\n",
       "      <td>59</td>\n",
       "      <td>male</td>\n",
       "      <td>more</td>\n",
       "      <td>-0.737732</td>\n",
       "      <td>4.5</td>\n",
       "      <td>upper</td>\n",
       "      <td>yes</td>\n",
       "      <td>yes</td>\n",
       "      <td>17</td>\n",
       "      <td>20</td>\n",
       "      <td>2</td>\n",
       "      <td>0</td>\n",
       "      <td>0</td>\n",
       "      <td>0</td>\n",
       "      <td>0</td>\n",
       "      <td>1</td>\n",
       "      <td>1</td>\n",
       "      <td>1</td>\n",
       "    </tr>\n",
       "    <tr>\n",
       "      <th>...</th>\n",
       "      <td>...</td>\n",
       "      <td>...</td>\n",
       "      <td>...</td>\n",
       "      <td>...</td>\n",
       "      <td>...</td>\n",
       "      <td>...</td>\n",
       "      <td>...</td>\n",
       "      <td>...</td>\n",
       "      <td>...</td>\n",
       "      <td>...</td>\n",
       "      <td>...</td>\n",
       "      <td>...</td>\n",
       "      <td>...</td>\n",
       "      <td>...</td>\n",
       "      <td>...</td>\n",
       "      <td>...</td>\n",
       "      <td>...</td>\n",
       "      <td>...</td>\n",
       "      <td>...</td>\n",
       "    </tr>\n",
       "    <tr>\n",
       "      <th>458</th>\n",
       "      <td>no</td>\n",
       "      <td>37</td>\n",
       "      <td>male</td>\n",
       "      <td>more</td>\n",
       "      <td>0.933396</td>\n",
       "      <td>3.5</td>\n",
       "      <td>upper</td>\n",
       "      <td>yes</td>\n",
       "      <td>yes</td>\n",
       "      <td>15</td>\n",
       "      <td>17</td>\n",
       "      <td>40</td>\n",
       "      <td>1</td>\n",
       "      <td>0</td>\n",
       "      <td>0</td>\n",
       "      <td>0</td>\n",
       "      <td>1</td>\n",
       "      <td>1</td>\n",
       "      <td>1</td>\n",
       "    </tr>\n",
       "    <tr>\n",
       "      <th>459</th>\n",
       "      <td>no</td>\n",
       "      <td>58</td>\n",
       "      <td>female</td>\n",
       "      <td>more</td>\n",
       "      <td>0.111563</td>\n",
       "      <td>3.5</td>\n",
       "      <td>upper</td>\n",
       "      <td>yes</td>\n",
       "      <td>yes</td>\n",
       "      <td>26</td>\n",
       "      <td>34</td>\n",
       "      <td>47</td>\n",
       "      <td>1</td>\n",
       "      <td>0</td>\n",
       "      <td>1</td>\n",
       "      <td>0</td>\n",
       "      <td>1</td>\n",
       "      <td>1</td>\n",
       "      <td>1</td>\n",
       "    </tr>\n",
       "    <tr>\n",
       "      <th>460</th>\n",
       "      <td>no</td>\n",
       "      <td>42</td>\n",
       "      <td>male</td>\n",
       "      <td>more</td>\n",
       "      <td>-0.900580</td>\n",
       "      <td>4.0</td>\n",
       "      <td>upper</td>\n",
       "      <td>yes</td>\n",
       "      <td>yes</td>\n",
       "      <td>45</td>\n",
       "      <td>86</td>\n",
       "      <td>61</td>\n",
       "      <td>1</td>\n",
       "      <td>0</td>\n",
       "      <td>0</td>\n",
       "      <td>0</td>\n",
       "      <td>1</td>\n",
       "      <td>1</td>\n",
       "      <td>1</td>\n",
       "    </tr>\n",
       "    <tr>\n",
       "      <th>461</th>\n",
       "      <td>no</td>\n",
       "      <td>39</td>\n",
       "      <td>male</td>\n",
       "      <td>more</td>\n",
       "      <td>0.643014</td>\n",
       "      <td>4.3</td>\n",
       "      <td>upper</td>\n",
       "      <td>yes</td>\n",
       "      <td>yes</td>\n",
       "      <td>22</td>\n",
       "      <td>29</td>\n",
       "      <td>62</td>\n",
       "      <td>1</td>\n",
       "      <td>0</td>\n",
       "      <td>0</td>\n",
       "      <td>0</td>\n",
       "      <td>1</td>\n",
       "      <td>1</td>\n",
       "      <td>1</td>\n",
       "    </tr>\n",
       "    <tr>\n",
       "      <th>462</th>\n",
       "      <td>no</td>\n",
       "      <td>51</td>\n",
       "      <td>female</td>\n",
       "      <td>more</td>\n",
       "      <td>0.391822</td>\n",
       "      <td>3.0</td>\n",
       "      <td>upper</td>\n",
       "      <td>yes</td>\n",
       "      <td>yes</td>\n",
       "      <td>47</td>\n",
       "      <td>67</td>\n",
       "      <td>69</td>\n",
       "      <td>1</td>\n",
       "      <td>0</td>\n",
       "      <td>1</td>\n",
       "      <td>0</td>\n",
       "      <td>1</td>\n",
       "      <td>1</td>\n",
       "      <td>1</td>\n",
       "    </tr>\n",
       "  </tbody>\n",
       "</table>\n",
       "<p>463 rows × 19 columns</p>\n",
       "</div>"
      ],
      "text/plain": [
       "    minority  age  gender credits    beauty  eval division native tenure  \\\n",
       "0        yes   36  female    more  0.289916   4.3    upper    yes    yes   \n",
       "1        yes   36  female    more  0.289916   3.7    upper    yes    yes   \n",
       "2        yes   36  female    more  0.289916   3.6    upper    yes    yes   \n",
       "3        yes   36  female    more  0.289916   4.4    upper    yes    yes   \n",
       "4         no   59    male    more -0.737732   4.5    upper    yes    yes   \n",
       "..       ...  ...     ...     ...       ...   ...      ...    ...    ...   \n",
       "458       no   37    male    more  0.933396   3.5    upper    yes    yes   \n",
       "459       no   58  female    more  0.111563   3.5    upper    yes    yes   \n",
       "460       no   42    male    more -0.900580   4.0    upper    yes    yes   \n",
       "461       no   39    male    more  0.643014   4.3    upper    yes    yes   \n",
       "462       no   51  female    more  0.391822   3.0    upper    yes    yes   \n",
       "\n",
       "     students  allstudents  prof  PrimaryLast  vismin  female  single_credit  \\\n",
       "0          24           43     1            0       1       1              0   \n",
       "1          86          125     1            0       1       1              0   \n",
       "2          76          125     1            0       1       1              0   \n",
       "3          77          123     1            1       1       1              0   \n",
       "4          17           20     2            0       0       0              0   \n",
       "..        ...          ...   ...          ...     ...     ...            ...   \n",
       "458        15           17    40            1       0       0              0   \n",
       "459        26           34    47            1       0       1              0   \n",
       "460        45           86    61            1       0       0              0   \n",
       "461        22           29    62            1       0       0              0   \n",
       "462        47           67    69            1       0       1              0   \n",
       "\n",
       "     upper_division  English_speaker  tenured_prof  \n",
       "0                 1                1             1  \n",
       "1                 1                1             1  \n",
       "2                 1                1             1  \n",
       "3                 1                1             1  \n",
       "4                 1                1             1  \n",
       "..              ...              ...           ...  \n",
       "458               1                1             1  \n",
       "459               1                1             1  \n",
       "460               1                1             1  \n",
       "461               1                1             1  \n",
       "462               1                1             1  \n",
       "\n",
       "[463 rows x 19 columns]"
      ]
     },
     "execution_count": 2,
     "metadata": {},
     "output_type": "execute_result"
    }
   ],
   "source": [
    "# importing the dataset\n",
    "df = pd.read_csv(r\"C:\\Users\\HP'\\Downloads\\teachingratings.csv\")\n",
    "df"
   ]
  },
  {
   "cell_type": "code",
   "execution_count": 3,
   "metadata": {},
   "outputs": [
    {
     "data": {
      "text/plain": [
       "(463, 19)"
      ]
     },
     "execution_count": 3,
     "metadata": {},
     "output_type": "execute_result"
    }
   ],
   "source": [
    "df.shape"
   ]
  },
  {
   "cell_type": "code",
   "execution_count": 4,
   "metadata": {},
   "outputs": [
    {
     "name": "stdout",
     "output_type": "stream",
     "text": [
      "<class 'pandas.core.frame.DataFrame'>\n",
      "RangeIndex: 463 entries, 0 to 462\n",
      "Data columns (total 19 columns):\n",
      " #   Column           Non-Null Count  Dtype  \n",
      "---  ------           --------------  -----  \n",
      " 0   minority         463 non-null    object \n",
      " 1   age              463 non-null    int64  \n",
      " 2   gender           463 non-null    object \n",
      " 3   credits          463 non-null    object \n",
      " 4   beauty           463 non-null    float64\n",
      " 5   eval             463 non-null    float64\n",
      " 6   division         463 non-null    object \n",
      " 7   native           463 non-null    object \n",
      " 8   tenure           463 non-null    object \n",
      " 9   students         463 non-null    int64  \n",
      " 10  allstudents      463 non-null    int64  \n",
      " 11  prof             463 non-null    int64  \n",
      " 12  PrimaryLast      463 non-null    int64  \n",
      " 13  vismin           463 non-null    int64  \n",
      " 14  female           463 non-null    int64  \n",
      " 15  single_credit    463 non-null    int64  \n",
      " 16  upper_division   463 non-null    int64  \n",
      " 17  English_speaker  463 non-null    int64  \n",
      " 18  tenured_prof     463 non-null    int64  \n",
      "dtypes: float64(2), int64(11), object(6)\n",
      "memory usage: 68.9+ KB\n"
     ]
    }
   ],
   "source": [
    "df.info()"
   ]
  },
  {
   "cell_type": "code",
   "execution_count": 5,
   "metadata": {},
   "outputs": [
    {
     "name": "stdout",
     "output_type": "stream",
     "text": [
      "minority\n",
      "age\n",
      "gender\n",
      "credits\n",
      "beauty\n",
      "eval\n",
      "division\n",
      "native\n",
      "tenure\n",
      "students\n",
      "allstudents\n",
      "prof\n",
      "PrimaryLast\n",
      "vismin\n",
      "female\n",
      "single_credit\n",
      "upper_division\n",
      "English_speaker\n",
      "tenured_prof\n"
     ]
    }
   ],
   "source": [
    "for i in df.columns:\n",
    "    print(i)"
   ]
  },
  {
   "cell_type": "code",
   "execution_count": 6,
   "metadata": {},
   "outputs": [
    {
     "data": {
      "text/html": [
       "<div>\n",
       "<style scoped>\n",
       "    .dataframe tbody tr th:only-of-type {\n",
       "        vertical-align: middle;\n",
       "    }\n",
       "\n",
       "    .dataframe tbody tr th {\n",
       "        vertical-align: top;\n",
       "    }\n",
       "\n",
       "    .dataframe thead th {\n",
       "        text-align: right;\n",
       "    }\n",
       "</style>\n",
       "<table border=\"1\" class=\"dataframe\">\n",
       "  <thead>\n",
       "    <tr style=\"text-align: right;\">\n",
       "      <th></th>\n",
       "      <th>age</th>\n",
       "      <th>beauty</th>\n",
       "      <th>eval</th>\n",
       "      <th>students</th>\n",
       "      <th>allstudents</th>\n",
       "      <th>prof</th>\n",
       "      <th>PrimaryLast</th>\n",
       "      <th>vismin</th>\n",
       "      <th>female</th>\n",
       "      <th>single_credit</th>\n",
       "      <th>upper_division</th>\n",
       "      <th>English_speaker</th>\n",
       "      <th>tenured_prof</th>\n",
       "    </tr>\n",
       "  </thead>\n",
       "  <tbody>\n",
       "    <tr>\n",
       "      <th>count</th>\n",
       "      <td>463.000000</td>\n",
       "      <td>4.630000e+02</td>\n",
       "      <td>463.000000</td>\n",
       "      <td>463.000000</td>\n",
       "      <td>463.000000</td>\n",
       "      <td>463.000000</td>\n",
       "      <td>463.000000</td>\n",
       "      <td>463.000000</td>\n",
       "      <td>463.000000</td>\n",
       "      <td>463.000000</td>\n",
       "      <td>463.000000</td>\n",
       "      <td>463.000000</td>\n",
       "      <td>463.000000</td>\n",
       "    </tr>\n",
       "    <tr>\n",
       "      <th>mean</th>\n",
       "      <td>48.365011</td>\n",
       "      <td>6.271140e-08</td>\n",
       "      <td>3.998272</td>\n",
       "      <td>36.624190</td>\n",
       "      <td>55.177106</td>\n",
       "      <td>45.434125</td>\n",
       "      <td>0.203024</td>\n",
       "      <td>0.138229</td>\n",
       "      <td>0.421166</td>\n",
       "      <td>0.058315</td>\n",
       "      <td>0.660907</td>\n",
       "      <td>0.939525</td>\n",
       "      <td>0.779698</td>\n",
       "    </tr>\n",
       "    <tr>\n",
       "      <th>std</th>\n",
       "      <td>9.802742</td>\n",
       "      <td>7.886477e-01</td>\n",
       "      <td>0.554866</td>\n",
       "      <td>45.018481</td>\n",
       "      <td>75.072800</td>\n",
       "      <td>27.508902</td>\n",
       "      <td>0.402685</td>\n",
       "      <td>0.345513</td>\n",
       "      <td>0.494280</td>\n",
       "      <td>0.234592</td>\n",
       "      <td>0.473913</td>\n",
       "      <td>0.238623</td>\n",
       "      <td>0.414899</td>\n",
       "    </tr>\n",
       "    <tr>\n",
       "      <th>min</th>\n",
       "      <td>29.000000</td>\n",
       "      <td>-1.450494e+00</td>\n",
       "      <td>2.100000</td>\n",
       "      <td>5.000000</td>\n",
       "      <td>8.000000</td>\n",
       "      <td>1.000000</td>\n",
       "      <td>0.000000</td>\n",
       "      <td>0.000000</td>\n",
       "      <td>0.000000</td>\n",
       "      <td>0.000000</td>\n",
       "      <td>0.000000</td>\n",
       "      <td>0.000000</td>\n",
       "      <td>0.000000</td>\n",
       "    </tr>\n",
       "    <tr>\n",
       "      <th>25%</th>\n",
       "      <td>42.000000</td>\n",
       "      <td>-6.562689e-01</td>\n",
       "      <td>3.600000</td>\n",
       "      <td>15.000000</td>\n",
       "      <td>19.000000</td>\n",
       "      <td>20.000000</td>\n",
       "      <td>0.000000</td>\n",
       "      <td>0.000000</td>\n",
       "      <td>0.000000</td>\n",
       "      <td>0.000000</td>\n",
       "      <td>0.000000</td>\n",
       "      <td>1.000000</td>\n",
       "      <td>1.000000</td>\n",
       "    </tr>\n",
       "    <tr>\n",
       "      <th>50%</th>\n",
       "      <td>48.000000</td>\n",
       "      <td>-6.801430e-02</td>\n",
       "      <td>4.000000</td>\n",
       "      <td>23.000000</td>\n",
       "      <td>29.000000</td>\n",
       "      <td>44.000000</td>\n",
       "      <td>0.000000</td>\n",
       "      <td>0.000000</td>\n",
       "      <td>0.000000</td>\n",
       "      <td>0.000000</td>\n",
       "      <td>1.000000</td>\n",
       "      <td>1.000000</td>\n",
       "      <td>1.000000</td>\n",
       "    </tr>\n",
       "    <tr>\n",
       "      <th>75%</th>\n",
       "      <td>57.000000</td>\n",
       "      <td>5.456024e-01</td>\n",
       "      <td>4.400000</td>\n",
       "      <td>40.000000</td>\n",
       "      <td>60.000000</td>\n",
       "      <td>70.500000</td>\n",
       "      <td>0.000000</td>\n",
       "      <td>0.000000</td>\n",
       "      <td>1.000000</td>\n",
       "      <td>0.000000</td>\n",
       "      <td>1.000000</td>\n",
       "      <td>1.000000</td>\n",
       "      <td>1.000000</td>\n",
       "    </tr>\n",
       "    <tr>\n",
       "      <th>max</th>\n",
       "      <td>73.000000</td>\n",
       "      <td>1.970023e+00</td>\n",
       "      <td>5.000000</td>\n",
       "      <td>380.000000</td>\n",
       "      <td>581.000000</td>\n",
       "      <td>94.000000</td>\n",
       "      <td>1.000000</td>\n",
       "      <td>1.000000</td>\n",
       "      <td>1.000000</td>\n",
       "      <td>1.000000</td>\n",
       "      <td>1.000000</td>\n",
       "      <td>1.000000</td>\n",
       "      <td>1.000000</td>\n",
       "    </tr>\n",
       "  </tbody>\n",
       "</table>\n",
       "</div>"
      ],
      "text/plain": [
       "              age        beauty        eval    students  allstudents  \\\n",
       "count  463.000000  4.630000e+02  463.000000  463.000000   463.000000   \n",
       "mean    48.365011  6.271140e-08    3.998272   36.624190    55.177106   \n",
       "std      9.802742  7.886477e-01    0.554866   45.018481    75.072800   \n",
       "min     29.000000 -1.450494e+00    2.100000    5.000000     8.000000   \n",
       "25%     42.000000 -6.562689e-01    3.600000   15.000000    19.000000   \n",
       "50%     48.000000 -6.801430e-02    4.000000   23.000000    29.000000   \n",
       "75%     57.000000  5.456024e-01    4.400000   40.000000    60.000000   \n",
       "max     73.000000  1.970023e+00    5.000000  380.000000   581.000000   \n",
       "\n",
       "             prof  PrimaryLast      vismin      female  single_credit  \\\n",
       "count  463.000000   463.000000  463.000000  463.000000     463.000000   \n",
       "mean    45.434125     0.203024    0.138229    0.421166       0.058315   \n",
       "std     27.508902     0.402685    0.345513    0.494280       0.234592   \n",
       "min      1.000000     0.000000    0.000000    0.000000       0.000000   \n",
       "25%     20.000000     0.000000    0.000000    0.000000       0.000000   \n",
       "50%     44.000000     0.000000    0.000000    0.000000       0.000000   \n",
       "75%     70.500000     0.000000    0.000000    1.000000       0.000000   \n",
       "max     94.000000     1.000000    1.000000    1.000000       1.000000   \n",
       "\n",
       "       upper_division  English_speaker  tenured_prof  \n",
       "count      463.000000       463.000000    463.000000  \n",
       "mean         0.660907         0.939525      0.779698  \n",
       "std          0.473913         0.238623      0.414899  \n",
       "min          0.000000         0.000000      0.000000  \n",
       "25%          0.000000         1.000000      1.000000  \n",
       "50%          1.000000         1.000000      1.000000  \n",
       "75%          1.000000         1.000000      1.000000  \n",
       "max          1.000000         1.000000      1.000000  "
      ]
     },
     "execution_count": 6,
     "metadata": {},
     "output_type": "execute_result"
    }
   ],
   "source": [
    "df.describe()"
   ]
  },
  {
   "cell_type": "code",
   "execution_count": 7,
   "metadata": {},
   "outputs": [
    {
     "data": {
      "text/plain": [
       "minority           0\n",
       "age                0\n",
       "gender             0\n",
       "credits            0\n",
       "beauty             0\n",
       "eval               0\n",
       "division           0\n",
       "native             0\n",
       "tenure             0\n",
       "students           0\n",
       "allstudents        0\n",
       "prof               0\n",
       "PrimaryLast        0\n",
       "vismin             0\n",
       "female             0\n",
       "single_credit      0\n",
       "upper_division     0\n",
       "English_speaker    0\n",
       "tenured_prof       0\n",
       "dtype: int64"
      ]
     },
     "execution_count": 7,
     "metadata": {},
     "output_type": "execute_result"
    }
   ],
   "source": [
    "df.isna().sum()"
   ]
  },
  {
   "cell_type": "code",
   "execution_count": 8,
   "metadata": {},
   "outputs": [
    {
     "name": "stderr",
     "output_type": "stream",
     "text": [
      "C:\\Users\\HP'\\AppData\\Local\\Temp\\ipykernel_22624\\3228052928.py:1: UserWarning: \n",
      "\n",
      "`distplot` is a deprecated function and will be removed in seaborn v0.14.0.\n",
      "\n",
      "Please adapt your code to use either `displot` (a figure-level function with\n",
      "similar flexibility) or `histplot` (an axes-level function for histograms).\n",
      "\n",
      "For a guide to updating your code to use the new functions, please see\n",
      "https://gist.github.com/mwaskom/de44147ed2974457ad6372750bbe5751\n",
      "\n",
      "  ax = sns.distplot(df[\"eval\"],\n",
      "c:\\Anaconda\\Lib\\site-packages\\seaborn\\_oldcore.py:1119: FutureWarning: use_inf_as_na option is deprecated and will be removed in a future version. Convert inf values to NaN before operating instead.\n",
      "  with pd.option_context('mode.use_inf_as_na', True):\n"
     ]
    },
    {
     "data": {
      "text/plain": [
       "[Text(0.5, 0, 'Normal distribution'),\n",
       " Text(0, 0.5, 'Frequency'),\n",
       " Text(0.5, 1.0, 'Distribution Plot')]"
      ]
     },
     "execution_count": 8,
     "metadata": {},
     "output_type": "execute_result"
    },
    {
     "data": {
      "image/png": "[encoded data removed]",
      "text/plain": [
       "<Figure size 640x480 with 1 Axes>"
      ]
     },
     "metadata": {},
     "output_type": "display_data"
    }
   ],
   "source": [
    "ax = sns.distplot(df[\"eval\"], \n",
    "             color=\"green\",\n",
    "             kde=True,\n",
    "             bins=20, \n",
    "             hist_kws={\"linewidth\":15, \"alpha\":1}\n",
    "             )\n",
    "ax.set(xlabel=\"Normal distribution\", ylabel=\"Frequency\",title=\"Distribution Plot\")"
   ]
  },
  {
   "cell_type": "markdown",
   "metadata": {},
   "source": [
    "***Here our evaluation score of the dataset is quite normally distributed. So, we can now do the levene test to know variance significance***\n",
    "* ***Here we will do the test between evaluation score w.r.t to the gender.***"
   ]
  },
  {
   "cell_type": "markdown",
   "metadata": {},
   "source": [
    "*Hypothesis statement for levene test*\n",
    "* Null hypothesis: Variance is equall i.e. hectoscedastic in nature\n",
    "* Alternate hypothesis: Variance is not equal"
   ]
  },
  {
   "cell_type": "code",
   "execution_count": 9,
   "metadata": {},
   "outputs": [
    {
     "data": {
      "text/plain": [
       "LeveneResult(statistic=0.19032922435292574, pvalue=0.6628469836244741)"
      ]
     },
     "execution_count": 9,
     "metadata": {},
     "output_type": "execute_result"
    }
   ],
   "source": [
    "scipy.stats.levene(df[df[\"gender\"]==\"male\"][\"eval\"], df[df[\"gender\"]==\"female\"][\"eval\"], center=\"mean\")"
   ]
  },
  {
   "cell_type": "markdown",
   "metadata": {},
   "source": [
    "<font color='blue'>***Here, we get the p value greater than the significance value (0.05) and hence we can conclude that there is not enough evidence to reject the null hypothesis. So, we can say that there is the equality in the variance of evaluation for the both group male and female.***\n",
    "* ***We also know that for performing t test and annova test, our sample group should have equal variance***</font>"
   ]
  },
  {
   "cell_type": "markdown",
   "metadata": {},
   "source": [
    "<font color=\"red\" size=18> ***Now we will be using the t test on the same group of data***</font>"
   ]
  },
  {
   "cell_type": "markdown",
   "metadata": {},
   "source": [
    "For T test there are two assumptions:\n",
    "* Both sample group should be normally distributed\n",
    "* Should have equal variance"
   ]
  },
  {
   "cell_type": "markdown",
   "metadata": {},
   "source": [
    "Hypothesis statement for t test.\n",
    "* Null Hypothesis: There is no difference in evaluation of mean based on gender\n",
    "* Alternate Hyothesis: There is significant difference in the evaluation of mean based on gender"
   ]
  },
  {
   "cell_type": "code",
   "execution_count": 10,
   "metadata": {},
   "outputs": [
    {
     "data": {
      "text/plain": [
       "TtestResult(statistic=3.249937943510772, pvalue=0.0012387609449522217, df=461.0)"
      ]
     },
     "execution_count": 10,
     "metadata": {},
     "output_type": "execute_result"
    }
   ],
   "source": [
    "scipy.stats.ttest_ind(df[df[\"gender\"] == \"male\"][\"eval\"], df[df[\"gender\"] == \"female\"][\"eval\"], equal_var=True)"
   ]
  },
  {
   "cell_type": "markdown",
   "metadata": {},
   "source": [
    "<font color=\"blue\">***The p value is much lesser than the significance value i.e. 0.05 and hence we can conclude that there is enough evidemce to reject the null hypothesis. If the null hypothesis is rejected than the alternative hypothesis is true, which states that there is statistically enough evidence of difference in evaluation based on gender***</font>\n"
   ]
  },
  {
   "cell_type": "markdown",
   "metadata": {},
   "source": [
    "<font color=\"red\" size=18>***ANNOVA: Using the teacher's rating dataset, does beauty score for instructers differ by age?***</font>"
   ]
  },
  {
   "cell_type": "markdown",
   "metadata": {},
   "source": [
    "ANNOVA can not work with continous variables so we have generated a new column named \"age_group\" and using that column, we are going compare the variance based on the category we defined in the age_group i.e. \"40 years and younger\", \"age group between 40 and 57 years\", and \"age group above 57 years\"."
   ]
  },
  {
   "cell_type": "code",
   "execution_count": 11,
   "metadata": {},
   "outputs": [],
   "source": [
    "df.loc[(df[\"age\"]<= 40), \"age_group\"] = \"40 years and younger\"\n",
    "df.loc[(df[\"age\"]>40)&(df[\"age\"]<57), \"age_group\"] = \"age group between 40 years and 57 years\"\n",
    "df.loc[(df[\"age\"]>=57), \"age_group\"] = \"age group above 57 years\""
   ]
  },
  {
   "cell_type": "markdown",
   "metadata": {},
   "source": [
    "Hypothesis for levene test\n",
    "*   Null hypothesis: Variance of the three groups must be equal.\n",
    "*   Alternate hypothesis: Variance of any one group must not be equal."
   ]
  },
  {
   "cell_type": "code",
   "execution_count": 12,
   "metadata": {},
   "outputs": [
    {
     "data": {
      "text/plain": [
       "LeveneResult(statistic=8.60005668392584, pvalue=0.000215366180993476)"
      ]
     },
     "execution_count": 12,
     "metadata": {},
     "output_type": "execute_result"
    }
   ],
   "source": [
    "scipy.stats.levene(df[df[\"age_group\"] == \"40 years and younger\"][\"beauty\"], \n",
    "                   df[df[\"age_group\"] == \"age group between 40 years and 57 years\"][\"beauty\"], \n",
    "                   df[df[\"age_group\"] == \"age group above 57 years\"][\"beauty\"],\n",
    "                   center=\"mean\")"
   ]
  },
  {
   "cell_type": "markdown",
   "metadata": {},
   "source": [
    "<font color=\"blue\">***From the above levene test, we find that the p score is much lesser tha the significance level i.e. 0.05. We can conclude that there is not enough evidence to conclude that the variance of the three groups are equal. Hence, we can reject the null hypothesis and accept the alternate hypothesis, which states that the variance of atleat one group differs from the another.***\n",
    "* ***Statistically we can not move futher to do the annova test because p value is much lesser than the significance value.***\n",
    "* ***But for the learning purpose we are moving further to do the annova test***</font>"
   ]
  },
  {
   "cell_type": "code",
   "execution_count": 13,
   "metadata": {},
   "outputs": [],
   "source": [
    "age_lower_than_40 = df[df[\"age_group\"] == \"40 years and younger\"][\"beauty\"]\n",
    "age_greater_than40_and_less_than_57 = df[df[\"age_group\"] == \"age group between 40 years and 57 years\"][\"beauty\"]\n",
    "age_greater_than_57 = df[df[\"age_group\"] == \"age group above 57 years\"][\"beauty\"]"
   ]
  },
  {
   "cell_type": "markdown",
   "metadata": {},
   "source": [
    "Hypothesis Statement for ANNOVA test:\n",
    "* Null hypothesis: The mean of beauty scores of all three group are equal.\n",
    "* Alternate hypothesis: Mean of beauty score of at-least one group is different."
   ]
  },
  {
   "cell_type": "code",
   "execution_count": 14,
   "metadata": {},
   "outputs": [
    {
     "name": "stdout",
     "output_type": "stream",
     "text": [
      "F statistics value is: 17.597558611010122  \n",
      "P value is: 4.3225489816137975e-08\n"
     ]
    }
   ],
   "source": [
    "f_statistics, p_values = scipy.stats.f_oneway(age_lower_than_40, age_greater_than40_and_less_than_57, age_greater_than_57)\n",
    "print(\"F statistics value is: {}  \\nP value is: {}\".format(f_statistics, p_values))"
   ]
  },
  {
   "cell_type": "markdown",
   "metadata": {},
   "source": [
    "<font color=\"blue\">***From the above F test, we came to know that the p value is much lesser than the significance value and we can conclude that there is enough evidence to reject the null hyposthesis and accept the alternate hypothesis, which says that tha variance of beauty score of at-least one group differs from the others.***</font>"
   ]
  },
  {
   "cell_type": "markdown",
   "metadata": {},
   "source": [
    "<font color=\"red\" size=06>***ANNOVA: Test of variance for different groups based on age and evaluation score***</font>"
   ]
  },
  {
   "cell_type": "markdown",
   "metadata": {},
   "source": [
    "First of all, we are going to form the ***hypothesis stament*** for levene test, which is as follows:\n",
    "* Null hypothesis: The Variance of all 3 groups, based on the age, have equal mean.\n",
    "* Alternative hypothesis: This hypothesis states that the variance of atleast one group differs from the others."
   ]
  },
  {
   "cell_type": "code",
   "execution_count": 15,
   "metadata": {},
   "outputs": [],
   "source": [
    "age_lower_than_40_eval = df[df[\"age_group\"] == \"40 years and younger\"][\"eval\"]\n",
    "age_greater_than40_and_less_than_57_eval = df[df[\"age_group\"] == \"age group between 40 years and 57 years\"][\"eval\"]\n",
    "age_greater_than_57_eval = df[df[\"age_group\"] == \"age group above 57 years\"][\"eval\"]"
   ]
  },
  {
   "cell_type": "code",
   "execution_count": 16,
   "metadata": {},
   "outputs": [
    {
     "data": {
      "text/plain": [
       "LeveneResult(statistic=3.820237661494229, pvalue=0.02262141852021939)"
      ]
     },
     "execution_count": 16,
     "metadata": {},
     "output_type": "execute_result"
    }
   ],
   "source": [
    "scipy.stats.levene(df[df[\"age_group\"] == \"40 years and younger\"][\"eval\"],\n",
    "                   df[df[\"age_group\"] == \"age group between 40 years and 57 years\"][\"eval\"],\n",
    "                   df[df[\"age_group\"] == \"age group above 57 years\"][\"eval\"],\n",
    "                   center=\"mean\")"
   ]
  },
  {
   "cell_type": "markdown",
   "metadata": {},
   "source": [
    "<font color=\"blue\">***Here from the levene test, we get to know that the p value is lesser than the significance value (0.05) and hence we can conclude that we can reject the null hypothesis, which states that the variance is equal for each group and accept the alternative hypothesis stating that the variance is different for at leat one group***\n",
    "* ***Here the null hypothesis is rejected and we know that for ANNOVA test, we assume that the varaince of the group must be same. But in this case the variance of atleat one group differs from the another.***\n",
    "* ***But for study purpose, we are moving along otherwise there is no need to move forward to do annova test.***</font>"
   ]
  },
  {
   "cell_type": "markdown",
   "metadata": {},
   "source": [
    "*Hypothesis staement for ANNOVA test*\n",
    "* Null hypothesis: The mean of evaluation scores based on the different age groups.\n",
    "* Alternative hypothesis: The mean of evaluation of at leat one group differs from the others."
   ]
  },
  {
   "cell_type": "code",
   "execution_count": 17,
   "metadata": {},
   "outputs": [
    {
     "name": "stdout",
     "output_type": "stream",
     "text": [
      "F statistic: 1.628656228247307\n",
      "P Values: 0.1973006475306491\n"
     ]
    }
   ],
   "source": [
    "f_statistics, p_values = scipy.stats.f_oneway(age_greater_than_57_eval, age_greater_than40_and_less_than_57_eval, age_greater_than_57_eval)\n",
    "print(\"F statistic: {}\\nP Values: {}\".format(f_statistics, p_values))"
   ]
  },
  {
   "cell_type": "markdown",
   "metadata": {},
   "source": [
    "<font color=\"blue\">***From the above test, we can see that the p values is greater than the significance level i.e. (0.05) so we can conclude  that there is not enough evidence to reject the null hypothesis, which states that the mean of evaluation scores are same for all the groups.***</font>"
   ]
  },
  {
   "cell_type": "markdown",
   "metadata": {},
   "source": [
    "<font color=\"red\" size=18>***Chi Square test: Using the teachers' rating data set, is there an association between tenure and gender?***</font>"
   ]
  },
  {
   "cell_type": "markdown",
   "metadata": {},
   "source": [
    "*Hypothesis Statement*\n",
    "* Null hypothesis: The proportion of teachers who are tenured is independent of gender.\n",
    "* Alternative hypothesis: The proportion of teachers who are tenured is associated with gender."
   ]
  },
  {
   "cell_type": "code",
   "execution_count": 18,
   "metadata": {},
   "outputs": [
    {
     "data": {
      "text/html": [
       "<div>\n",
       "<style scoped>\n",
       "    .dataframe tbody tr th:only-of-type {\n",
       "        vertical-align: middle;\n",
       "    }\n",
       "\n",
       "    .dataframe tbody tr th {\n",
       "        vertical-align: top;\n",
       "    }\n",
       "\n",
       "    .dataframe thead th {\n",
       "        text-align: right;\n",
       "    }\n",
       "</style>\n",
       "<table border=\"1\" class=\"dataframe\">\n",
       "  <thead>\n",
       "    <tr style=\"text-align: right;\">\n",
       "      <th>gender</th>\n",
       "      <th>female</th>\n",
       "      <th>male</th>\n",
       "    </tr>\n",
       "    <tr>\n",
       "      <th>tenure</th>\n",
       "      <th></th>\n",
       "      <th></th>\n",
       "    </tr>\n",
       "  </thead>\n",
       "  <tbody>\n",
       "    <tr>\n",
       "      <th>no</th>\n",
       "      <td>50</td>\n",
       "      <td>52</td>\n",
       "    </tr>\n",
       "    <tr>\n",
       "      <th>yes</th>\n",
       "      <td>145</td>\n",
       "      <td>216</td>\n",
       "    </tr>\n",
       "  </tbody>\n",
       "</table>\n",
       "</div>"
      ],
      "text/plain": [
       "gender  female  male\n",
       "tenure              \n",
       "no          50    52\n",
       "yes        145   216"
      ]
     },
     "execution_count": 18,
     "metadata": {},
     "output_type": "execute_result"
    }
   ],
   "source": [
    "cont_table = pd.crosstab(df[\"tenure\"], df[\"gender\"])\n",
    "cont_table"
   ]
  },
  {
   "cell_type": "code",
   "execution_count": 19,
   "metadata": {},
   "outputs": [
    {
     "data": {
      "text/plain": [
       "Chi2ContingencyResult(statistic=2.20678166999886, pvalue=0.1374050603563787, dof=1, expected_freq=array([[ 42.95896328,  59.04103672],\n",
       "       [152.04103672, 208.95896328]]))"
      ]
     },
     "execution_count": 19,
     "metadata": {},
     "output_type": "execute_result"
    }
   ],
   "source": [
    "scipy.stats.chi2_contingency(cont_table, correction = True)"
   ]
  },
  {
   "cell_type": "markdown",
   "metadata": {},
   "source": [
    "<font color=\"blue\">***Here, we came to know that p score is greater than the significance value i.e. (0.05). Hence we can conclude that there is not enough evidence to reject the null hypothesis, which states that the proportion of teachers who are tenured is independent of gender.***</font>"
   ]
  },
  {
   "cell_type": "markdown",
   "metadata": {},
   "source": [
    "<font color=\"red\" size=18>***Correlation: Using the teachers rating dataset, Is teaching  evaluation  score correlated with  beauty score?***</font>"
   ]
  },
  {
   "cell_type": "markdown",
   "metadata": {},
   "source": [
    "Hypothesis Statement for correlation:\n",
    "-   $H_0:$ Teaching evaluation score is not correlated with beauty score\n",
    "-   $H_1:$ Teaching evaluation score is correlated with beauty score\n"
   ]
  },
  {
   "cell_type": "code",
   "execution_count": 20,
   "metadata": {},
   "outputs": [
    {
     "data": {
      "image/png": "[encoded data removed]",
      "text/plain": [
       "<Figure size 2000x800 with 1 Axes>"
      ]
     },
     "metadata": {},
     "output_type": "display_data"
    }
   ],
   "source": [
    "plt.figure(figsize=(20,8))\n",
    "sns.scatterplot(x=\"beauty\", \n",
    "                y=\"eval\", \n",
    "                data=df, \n",
    "                hue=\"age\",\n",
    "                alpha=1, \n",
    "                palette=\"deep\",\n",
    "                size=\"age\",\n",
    "                legend=\"full\",\n",
    "                sizes=(100,15))\n",
    "plt.show()"
   ]
  },
  {
   "cell_type": "code",
   "execution_count": 21,
   "metadata": {},
   "outputs": [
    {
     "data": {
      "text/plain": [
       "PearsonRResult(statistic=0.1890390908404521, pvalue=4.247115419813754e-05)"
      ]
     },
     "execution_count": 21,
     "metadata": {},
     "output_type": "execute_result"
    }
   ],
   "source": [
    "scipy.stats.pearsonr(df[\"beauty\"], df[\"eval\"])"
   ]
  },
  {
   "cell_type": "markdown",
   "metadata": {},
   "source": [
    "<font color=\"blue\">***Here we observed that the p-value is much lesser than the significance level and hence we can conclude that there is enough evidence to reject the null hypothesis, which states that evaluation and beauty scores are not correlated.***</font>"
   ]
  },
  {
   "cell_type": "markdown",
   "metadata": {},
   "source": [
    "<font color=\"red\" size=18>***Using the teachers rating data set, does tenure affect teaching evaluation scores?***</font>"
   ]
  },
  {
   "cell_type": "markdown",
   "metadata": {},
   "source": [
    "<font color=\"blue\">***Before doing any test, we need to know the variance of both the groups. So, we will be doing the levene test for the confirmation of variance***</font>"
   ]
  },
  {
   "cell_type": "markdown",
   "metadata": {},
   "source": [
    "Hypothesis statement:\n",
    "* Null hypothesis: The variance of both the groups must be equal.\n",
    "* Alternative hypothesis: The variance of the groups are not equal."
   ]
  },
  {
   "cell_type": "code",
   "execution_count": 23,
   "metadata": {},
   "outputs": [
    {
     "data": {
      "text/plain": [
       "LeveneResult(statistic=0.44389295824627134, pvalue=0.5055827160360271)"
      ]
     },
     "execution_count": 23,
     "metadata": {},
     "output_type": "execute_result"
    }
   ],
   "source": [
    "scipy.stats.levene(df[df[\"tenure\"] == \"yes\"][\"eval\"],\n",
    "                   df[df[\"tenure\"]==\"no\"][\"eval\"],\n",
    "                   center=\"mean\")"
   ]
  },
  {
   "cell_type": "markdown",
   "metadata": {},
   "source": [
    "<font color=\"blue\">***From the above test, we came to know that the p value is greater than the significance level i.e. 0.05 so we can colclude that there is not enough evidence to reject the null hypothesis and hence the variance of both the group is same.***</font>"
   ]
  },
  {
   "cell_type": "markdown",
   "metadata": {},
   "source": [
    "<font color=\"blue\">***We are now going to test the above groups with t test beacuse there are only two groups***</font>"
   ]
  },
  {
   "cell_type": "markdown",
   "metadata": {},
   "source": [
    "Hypothesis Statement:\n",
    "* Null hypothesis: Tenure is not affecting the teaching evaluation scores.\n",
    "* Alternative hypothesis: Tenure is affecting the teaching evaluation scores"
   ]
  },
  {
   "cell_type": "code",
   "execution_count": 24,
   "metadata": {},
   "outputs": [
    {
     "data": {
      "text/plain": [
       "TtestResult(statistic=-2.8046798258451777, pvalue=0.005249471210198792, df=461.0)"
      ]
     },
     "execution_count": 24,
     "metadata": {},
     "output_type": "execute_result"
    }
   ],
   "source": [
    "scipy.stats.ttest_ind(df[df[\"tenure\"] == \"yes\"][\"eval\"],\n",
    "                   df[df[\"tenure\"]==\"no\"][\"eval\"]\n",
    "                   )"
   ]
  },
  {
   "cell_type": "markdown",
   "metadata": {},
   "source": [
    "<font color=\"blue\">***From the above perfromed t test, we can say that the p value is much lesser than the significance level i.e. 0.05 so we can conclude that there is enough evidence to reject the null hypothesis, which says that the tenure is not affecting the teaching evaluation score. The alternative hypothesis is the true hypothesis, which states that the tenure is affecting the teaching evaluation score.***</font>"
   ]
  },
  {
   "cell_type": "markdown",
   "metadata": {},
   "source": [
    "<font color=\"red\" size=18>***Using the teachers rating data set, is there an association between age and tenure?***</font>"
   ]
  },
  {
   "cell_type": "markdown",
   "metadata": {},
   "source": [
    "Hypothesis Statement:\n",
    "* Null hypothesis: There is no association between age and tenure.\n",
    "* Alternative hypothesis: There is association between age and tenure."
   ]
  },
  {
   "cell_type": "code",
   "execution_count": 27,
   "metadata": {},
   "outputs": [
    {
     "data": {
      "text/html": [
       "<div>\n",
       "<style scoped>\n",
       "    .dataframe tbody tr th:only-of-type {\n",
       "        vertical-align: middle;\n",
       "    }\n",
       "\n",
       "    .dataframe tbody tr th {\n",
       "        vertical-align: top;\n",
       "    }\n",
       "\n",
       "    .dataframe thead th {\n",
       "        text-align: right;\n",
       "    }\n",
       "</style>\n",
       "<table border=\"1\" class=\"dataframe\">\n",
       "  <thead>\n",
       "    <tr style=\"text-align: right;\">\n",
       "      <th>tenure</th>\n",
       "      <th>no</th>\n",
       "      <th>yes</th>\n",
       "    </tr>\n",
       "    <tr>\n",
       "      <th>age_group</th>\n",
       "      <th></th>\n",
       "      <th></th>\n",
       "    </tr>\n",
       "  </thead>\n",
       "  <tbody>\n",
       "    <tr>\n",
       "      <th>40 years and younger</th>\n",
       "      <td>15</td>\n",
       "      <td>98</td>\n",
       "    </tr>\n",
       "    <tr>\n",
       "      <th>age group above 57 years</th>\n",
       "      <td>25</td>\n",
       "      <td>97</td>\n",
       "    </tr>\n",
       "    <tr>\n",
       "      <th>age group between 40 years and 57 years</th>\n",
       "      <td>62</td>\n",
       "      <td>166</td>\n",
       "    </tr>\n",
       "  </tbody>\n",
       "</table>\n",
       "</div>"
      ],
      "text/plain": [
       "tenure                                   no  yes\n",
       "age_group                                       \n",
       "40 years and younger                     15   98\n",
       "age group above 57 years                 25   97\n",
       "age group between 40 years and 57 years  62  166"
      ]
     },
     "execution_count": 27,
     "metadata": {},
     "output_type": "execute_result"
    }
   ],
   "source": [
    "cont_table=pd.crosstab(df[\"age_group\"],df[\"tenure\"])\n",
    "cont_table"
   ]
  },
  {
   "cell_type": "code",
   "execution_count": 28,
   "metadata": {},
   "outputs": [
    {
     "data": {
      "text/plain": [
       "Chi2ContingencyResult(statistic=8.749576239010711, pvalue=0.012590809706820843, dof=2, expected_freq=array([[ 24.89416847,  88.10583153],\n",
       "       [ 26.87688985,  95.12311015],\n",
       "       [ 50.22894168, 177.77105832]]))"
      ]
     },
     "execution_count": 28,
     "metadata": {},
     "output_type": "execute_result"
    }
   ],
   "source": [
    "scipy.stats.chi2_contingency(cont_table, correction=True)"
   ]
  },
  {
   "cell_type": "markdown",
   "metadata": {},
   "source": [
    "<font color=\"blue\">***From the above chi-squared test, we get the p value lesser than the significance level so we can conclude that there is enough evidence to reject the null hypothesis, which satates that there isi no association between age and tenure. Hence the alternative hypothesis is the true hypothesis, which states that there is significant association between age and tenure.***</font>"
   ]
  }
 ],
 "metadata": {
  "kernelspec": {
   "display_name": "base",
   "language": "python",
   "name": "python3"
  },
  "language_info": {
   "codemirror_mode": {
    "name": "ipython",
    "version": 3
   },
   "file_extension": ".py",
   "mimetype": "text/x-python",
   "name": "python",
   "nbconvert_exporter": "python",
   "pygments_lexer": "ipython3",
   "version": "3.11.5"
  }
 },
 "nbformat": 4,
 "nbformat_minor": 2
}
